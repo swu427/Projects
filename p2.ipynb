{
 "cells": [
  {
   "cell_type": "code",
   "execution_count": 1,
   "id": "2ee111a6-4f49-4316-a19c-1eb2591e82b4",
   "metadata": {},
   "outputs": [],
   "source": [
    "# project: p2\n",
    "# submitter: swu427\n",
    "# partner: none\n",
    "# hours: 20"
   ]
  },
  {
   "cell_type": "code",
   "execution_count": 2,
   "id": "cc4cf7e1-474d-4175-bf96-f3317719095f",
   "metadata": {},
   "outputs": [],
   "source": [
    "import loans\n",
    "import search"
   ]
  },
  {
   "cell_type": "code",
   "execution_count": 3,
   "id": "d0973a5c-12ca-47ca-b1d6-94f39bbc016f",
   "metadata": {},
   "outputs": [],
   "source": [
    "%load_ext autoreload\n",
    "%autoreload 2"
   ]
  },
  {
   "cell_type": "code",
   "execution_count": 4,
   "id": "2fa1321a-9e4f-4d37-b229-f2c6279120fb",
   "metadata": {},
   "outputs": [
    {
     "data": {
      "text/plain": [
       "{'American Indian or Alaska Native', 'Asian', 'Black or African American'}"
      ]
     },
     "execution_count": 4,
     "metadata": {},
     "output_type": "execute_result"
    }
   ],
   "source": [
    "applicant = loans.Applicant(\"20-30\", [\"1\", \"2\", \"3\"])\n",
    "applicant.race"
   ]
  },
  {
   "cell_type": "code",
   "execution_count": 5,
   "id": "8d77e8bb-f50c-4c15-8229-d2f77c1ec3f8",
   "metadata": {},
   "outputs": [
    {
     "data": {
      "text/plain": [
       "20"
      ]
     },
     "execution_count": 5,
     "metadata": {},
     "output_type": "execute_result"
    }
   ],
   "source": [
    "applicant\n",
    "applicant.lower_age()"
   ]
  },
  {
   "cell_type": "code",
   "execution_count": 6,
   "id": "5bafef98-b72c-4a48-9bc9-05ce8a396957",
   "metadata": {},
   "outputs": [
    {
     "data": {
      "text/plain": [
       "[Applicant('20-30', ['American Indian or Alaska Native', 'Black or African American']),\n",
       " Applicant('<25', ['White']),\n",
       " Applicant('35-44', ['Chinese']),\n",
       " Applicant('>75', ['Other Pacific Islander', 'Samoan'])]"
      ]
     },
     "execution_count": 6,
     "metadata": {},
     "output_type": "execute_result"
    }
   ],
   "source": [
    "sorted([\n",
    "    loans.Applicant(\">75\", [\"43\", \"44\"]),\n",
    "    loans.Applicant(\"20-30\", [\"1\", \"3\"]),\n",
    "    loans.Applicant(\"35-44\", [\"22\"]),\n",
    "    loans.Applicant(\"<25\", [\"5\"]),\n",
    "])\n"
   ]
  },
  {
   "cell_type": "code",
   "execution_count": 7,
   "id": "5ffa27e5-3048-4101-844d-dcace3a763bc",
   "metadata": {
    "tags": []
   },
   "outputs": [],
   "source": [
    "values = {'activity_year': '2020', 'lei': '549300FX7K8PTEQUU487', 'derived_msa-md': '31540', 'state_code': 'WI',\n",
    "         'county_code': '55025', 'census_tract': '55025002402', 'conforming_loan_limit': 'C',\n",
    "         'derived_loan_product_type': 'Conventional:First Lien',\n",
    "         'derived_dwelling_category': 'Single Family (1-4 Units):Site-Built',\n",
    "         'derived_ethnicity': 'Not Hispanic or Latino', 'derived_race': 'White', 'derived_sex': 'Male',\n",
    "         'action_taken': '3', 'purchaser_type': '0', 'preapproval': '2', 'loan_type': '1', 'loan_purpose': '4',\n",
    "         'lien_status': '1', 'reverse_mortgage': '2', 'open-end_line_of_credit': '1',\n",
    "         'business_or_commercial_purpose': '2', 'loan_amount': '225000.0', 'loan_to_value_ratio': '78.671',\n",
    "         'interest_rate': '3.000', 'rate_spread': 'NA', 'hoepa_status': '3', 'total_loan_costs': 'NA',\n",
    "         'total_points_and_fees': 'NA', 'origination_charges': 'NA', 'discount_points': 'NA',\n",
    "         'lender_credits': 'NA', 'loan_term': '360', 'prepayment_penalty_term': 'NA', 'intro_rate_period': '1',\n",
    "         'negative_amortization': '2', 'interest_only_payment': '2', 'balloon_payment': '2',\n",
    "         'other_nonamortizing_features': '2', 'property_value': '285000', 'construction_method': '1',\n",
    "         'occupancy_type': '1', 'manufactured_home_secured_property_type': '3',\n",
    "         'manufactured_home_land_property_interest': '5', 'total_units': '1', 'multifamily_affordable_units': 'NA',\n",
    "         'income': '0', 'debt_to_income_ratio': '>60%', 'applicant_credit_score_type': '1',\n",
    "         'co-applicant_credit_score_type': '10', 'applicant_ethnicity-1': '2', 'applicant_ethnicity-2': '',\n",
    "         'applicant_ethnicity-3': '', 'applicant_ethnicity-4': '', 'applicant_ethnicity-5': '',\n",
    "         'co-applicant_ethnicity-1': '5', 'co-applicant_ethnicity-2': '', 'co-applicant_ethnicity-3': '',\n",
    "         'co-applicant_ethnicity-4': '', 'co-applicant_ethnicity-5': '', 'applicant_ethnicity_observed': '2',\n",
    "         'co-applicant_ethnicity_observed': '4', 'applicant_race-1': '5', 'applicant_race-2': '',\n",
    "         'applicant_race-3': '', 'applicant_race-4': '', 'applicant_race-5': '', 'co-applicant_race-1': '8',\n",
    "         'co-applicant_race-2': '', 'co-applicant_race-3': '', 'co-applicant_race-4': '', 'co-applicant_race-5': '',\n",
    "         'applicant_race_observed': '2', 'co-applicant_race_observed': '4', 'applicant_sex': '1',\n",
    "         'co-applicant_sex': '5', 'applicant_sex_observed': '2', 'co-applicant_sex_observed': '4',\n",
    "         'applicant_age': '55-64', 'co-applicant_age': '9999', 'applicant_age_above_62': 'Yes',\n",
    "         'co-applicant_age_above_62': 'NA', 'submission_of_application': '1', 'initially_payable_to_institution': '1',\n",
    "         'aus-1': '6', 'aus-2': '', 'aus-3': '', 'aus-4': '', 'aus-5': '', 'denial_reason-1': '1',\n",
    "         'denial_reason-2': '', 'denial_reason-3': '', 'denial_reason-4': '', 'tract_population': '3572',\n",
    "         'tract_minority_population_percent': '41.1499999999999986', 'ffiec_msa_md_median_family_income': '96600',\n",
    "         'tract_to_msa_income_percentage': '64', 'tract_owner_occupied_units': '812',\n",
    "         'tract_one_to_four_family_homes': '910', 'tract_median_age_of_housing_units': '45'}\n",
    "loan = loans.Loan(values)"
   ]
  },
  {
   "cell_type": "code",
   "execution_count": 8,
   "id": "43b5b3e4-0b97-4db1-b428-930c82956e23",
   "metadata": {},
   "outputs": [
    {
     "data": {
      "text/plain": [
       "3.0"
      ]
     },
     "execution_count": 8,
     "metadata": {},
     "output_type": "execute_result"
    }
   ],
   "source": [
    "loan.interest_rate\n"
   ]
  },
  {
   "cell_type": "code",
   "execution_count": 9,
   "id": "2275fdcb-1d87-4b98-af2e-4617576c58fc",
   "metadata": {},
   "outputs": [
    {
     "data": {
      "text/plain": [
       "'<Loan: 3.0% on $285000.0 with 1 applicant(s)>'"
      ]
     },
     "execution_count": 9,
     "metadata": {},
     "output_type": "execute_result"
    }
   ],
   "source": [
    "str(loan)"
   ]
  },
  {
   "cell_type": "code",
   "execution_count": 10,
   "id": "6ddce865-0c17-482c-a69c-23044028f3af",
   "metadata": {},
   "outputs": [
    {
     "name": "stdout",
     "output_type": "stream",
     "text": [
      "225000.0\n",
      "211750.0\n",
      "198102.5\n",
      "184045.575\n",
      "169566.94225000002\n",
      "154653.95051750002\n",
      "139293.56903302504\n",
      "123472.3761040158\n",
      "107176.54738713628\n",
      "90391.84380875036\n",
      "73103.59912301287\n",
      "55296.70709670326\n",
      "36955.60830960436\n",
      "18064.27655889249\n"
     ]
    }
   ],
   "source": [
    "for amt in loan.yearly_amounts(20000):\n",
    "    print(amt)"
   ]
  },
  {
   "cell_type": "code",
   "execution_count": 11,
   "id": "3a61d574-b005-43db-bb1b-781fd7bd80f7",
   "metadata": {},
   "outputs": [],
   "source": [
    "uwcu = loans.Bank(\"University of Wisconsin Credit Union\")"
   ]
  },
  {
   "cell_type": "code",
   "execution_count": 12,
   "id": "839d0f80-60eb-41c8-893a-0edf6c397fe5",
   "metadata": {},
   "outputs": [
    {
     "data": {
      "text/plain": [
       "'254900CN1DD55MJDFH69'"
      ]
     },
     "execution_count": 12,
     "metadata": {},
     "output_type": "execute_result"
    }
   ],
   "source": [
    "uwcu.lei"
   ]
  },
  {
   "cell_type": "code",
   "execution_count": 13,
   "id": "bb281c7f-c299-4d83-bee7-c38b8e016cd4",
   "metadata": {},
   "outputs": [
    {
     "name": "stdout",
     "output_type": "stream",
     "text": [
      "<Loan: 2.99% on $185000.0 with 2 applicant(s)>\n"
     ]
    }
   ],
   "source": [
    "print(uwcu.loan_info[-1])"
   ]
  },
  {
   "cell_type": "code",
   "execution_count": 14,
   "id": "125089fb-918b-4d72-9d9c-4a9140d31c54",
   "metadata": {},
   "outputs": [
    {
     "name": "stdout",
     "output_type": "stream",
     "text": [
      "21153\n"
     ]
    }
   ],
   "source": [
    "print(len(uwcu.loan_info))"
   ]
  },
  {
   "cell_type": "code",
   "execution_count": 15,
   "id": "1cd2e475-691b-4e7f-a266-f14b0cfb422c",
   "metadata": {},
   "outputs": [
    {
     "data": {
      "text/plain": [
       "21153"
      ]
     },
     "execution_count": 15,
     "metadata": {},
     "output_type": "execute_result"
    }
   ],
   "source": [
    "len(uwcu)"
   ]
  },
  {
   "cell_type": "code",
   "execution_count": 16,
   "id": "480519aa-a0f5-45e7-8b0a-4c2bf703e9af",
   "metadata": {},
   "outputs": [
    {
     "name": "stdout",
     "output_type": "stream",
     "text": [
      "C : [33]\n",
      "B : [22]\n",
      "A : [9, 5]\n"
     ]
    }
   ],
   "source": [
    "\n",
    "tree = search.BST()\n",
    "tree.add(\"A\", 9)\n",
    "tree.add(\"A\", 5)\n",
    "tree.add(\"B\", 22)\n",
    "tree.add(\"C\", 33)\n",
    "tree.dump()\n"
   ]
  },
  {
   "cell_type": "code",
   "execution_count": 17,
   "id": "618c1453-ae1d-4247-b127-85e60dcbe9df",
   "metadata": {},
   "outputs": [],
   "source": [
    "t = search.BST()\n",
    "t.add(\"B\", 3)\n",
    "assert len(t.root) == 1\n",
    "t.add(\"A\", 2)\n",
    "assert len(t.root) == 2\n",
    "t.add(\"C\", 1)\n",
    "assert len(t.root) == 3\n",
    "t.add(\"C\", 4)\n",
    "assert len(t.root) == 4"
   ]
  },
  {
   "cell_type": "code",
   "execution_count": 18,
   "id": "1de002bc-a89b-4749-92cd-bfa586eebbc3",
   "metadata": {},
   "outputs": [
    {
     "data": {
      "text/plain": [
       "[1, 4]"
      ]
     },
     "execution_count": 18,
     "metadata": {},
     "output_type": "execute_result"
    }
   ],
   "source": [
    "t.root.lookup(\"A\")\n",
    "t.root.lookup(\"C\")"
   ]
  },
  {
   "cell_type": "code",
   "execution_count": 19,
   "id": "e670c93b-8961-4543-ad3b-3fe7cad2cf47",
   "metadata": {},
   "outputs": [],
   "source": [
    "First_HB = loans.Bank(\"First Home Bank\")\n"
   ]
  },
  {
   "cell_type": "code",
   "execution_count": 20,
   "id": "00d01328-b788-47e0-a7db-16844ba6b9b4",
   "metadata": {},
   "outputs": [
    {
     "data": {
      "text/plain": [
       "2.962962962962963"
      ]
     },
     "execution_count": 20,
     "metadata": {},
     "output_type": "execute_result"
    }
   ],
   "source": [
    "#Q1\n",
    "count = 0\n",
    "total = 0\n",
    "for l in First_HB:\n",
    "    if l.interest_rate != -1:\n",
    "        count += l.interest_rate \n",
    "        total += 1\n",
    "        avg_rate = (count / total)\n",
    "avg_rate"
   ]
  },
  {
   "cell_type": "code",
   "execution_count": 21,
   "id": "d83ef205-14a5-4976-af2a-93c9f129e9f8",
   "metadata": {},
   "outputs": [
    {
     "data": {
      "text/plain": [
       "1.5777777777777777"
      ]
     },
     "execution_count": 21,
     "metadata": {},
     "output_type": "execute_result"
    }
   ],
   "source": [
    "#Q2\n",
    "count = 0\n",
    "\n",
    "for l in First_HB:\n",
    "    count += len(l.applicants)\n",
    "    avg_rate = (count / len(First_HB))\n",
    "avg_rate"
   ]
  },
  {
   "cell_type": "code",
   "execution_count": 22,
   "id": "58022856-596f-4d70-b887-b1acac8b8e15",
   "metadata": {},
   "outputs": [
    {
     "data": {
      "text/plain": [
       "{'65-74': 21, '45-54': 21, '>74': 5, '25-34': 4, '35-44': 13, '55-64': 7}"
      ]
     },
     "execution_count": 22,
     "metadata": {},
     "output_type": "execute_result"
    }
   ],
   "source": [
    "#Q3\n",
    "empty_dict = {}\n",
    "for l in First_HB:\n",
    "    age_range = l.applicants\n",
    "    for a in age_range:\n",
    "        if a != \"\":\n",
    "            if a.age in empty_dict:\n",
    "                empty_dict[a.age] += 1\n",
    "            else:\n",
    "                empty_dict[a.age] = 1\n",
    "empty_dict"
   ]
  },
  {
   "cell_type": "code",
   "execution_count": 23,
   "id": "3454aee8-7bc5-4c9a-bb3f-31f68c6bd9f1",
   "metadata": {},
   "outputs": [
    {
     "data": {
      "text/plain": [
       "18"
      ]
     },
     "execution_count": 23,
     "metadata": {},
     "output_type": "execute_result"
    }
   ],
   "source": [
    "#Q4\n",
    "tree = search.BST()\n",
    "for loan in First_HB:\n",
    "    tree.add(loan.interest_rate, loan)\n",
    "len(tree[-1])"
   ]
  },
  {
   "cell_type": "code",
   "execution_count": 24,
   "id": "8fbe52b4-be73-42e0-be44-6a9272f0177a",
   "metadata": {},
   "outputs": [
    {
     "data": {
      "text/plain": [
       "8"
      ]
     },
     "execution_count": 24,
     "metadata": {},
     "output_type": "execute_result"
    }
   ],
   "source": [
    "#Q5\n",
    "tree.height(tree.root)"
   ]
  },
  {
   "cell_type": "code",
   "execution_count": 25,
   "id": "87b3152a-7b9d-4a50-a3d5-c3ef72af8500",
   "metadata": {},
   "outputs": [],
   "source": [
    "\n",
    "import pandas as pd\n",
    "from time import time\n",
    "import numpy as np\n",
    "\n",
    "uwcu = loans.Bank(\"University of Wisconsin Credit Union\")"
   ]
  },
  {
   "cell_type": "code",
   "execution_count": 26,
   "id": "464171ca-4d94-4784-9e68-9f864b5c5f78",
   "metadata": {},
   "outputs": [
    {
     "data": {
      "text/plain": [
       "<Axes: xlabel='BST Adds', ylabel='Total Elapsed Milliseconds'>"
      ]
     },
     "execution_count": 26,
     "metadata": {},
     "output_type": "execute_result"
    },
    {
     "data": {
      "image/png": "[encoded data removed]",
      "text/plain": [
       "<Figure size 640x480 with 1 Axes>"
      ]
     },
     "metadata": {},
     "output_type": "display_data"
    }
   ],
   "source": [
    "#Q6\n",
    "times_df = pd.DataFrame()\n",
    "\n",
    "start_time = time()\n",
    "tree = search.BST()\n",
    "count = 0\n",
    "for loan in uwcu:\n",
    "    count += 1\n",
    "    tree.add(loan.interest_rate, loan)\n",
    "    end_time = time() \n",
    "    time_difference = (end_time - start_time) \n",
    "    times_df.at[count, \"BST Adds\"] = time_difference \n",
    "\n",
    "times_df.plot.line(xlabel = \"BST Adds\", ylabel = \"Total Elapsed Milliseconds\")\n",
    "\n",
    "\n"
   ]
  },
  {
   "cell_type": "code",
   "execution_count": 27,
   "id": "e3718545-c0c8-4f6d-abc5-f65f1d20e7bf",
   "metadata": {},
   "outputs": [
    {
     "data": {
      "text/plain": [
       "[Text(0, 0, 'Loop'), Text(1, 0, 'BST')]"
      ]
     },
     "execution_count": 27,
     "metadata": {},
     "output_type": "execute_result"
    },
    {
     "data": {
      "image/png": "[encoded data removed]",
      "text/plain": [
       "<Figure size 640x480 with 1 Axes>"
      ]
     },
     "metadata": {},
     "output_type": "display_data"
    }
   ],
   "source": [
    "#Q7 \n",
    "\n",
    "start_time_loop = time()\n",
    "count = 0\n",
    "for loan in uwcu:\n",
    "    if loan.interest_rate == -1:\n",
    "        count += 1 \n",
    "        end_time_loop = time()\n",
    "time_loop = (end_time_loop - start_time_loop) * 1e3\n",
    "\n",
    "       \n",
    "tree = search.BST()\n",
    "for loan in uwcu:\n",
    "    tree.add(loan.interest_rate, loan)\n",
    "\n",
    "start_time_search = time()      \n",
    "len(tree[-1])\n",
    "end_time_search = time()\n",
    "time_search = (end_time_search - start_time_search) * 1e3 \n",
    "\n",
    "\n",
    "data = {'Method': ['Loop', 'Search'],\n",
    "        'Value': [time_loop, time_search]}\n",
    "times_df = pd.DataFrame(data)\n",
    "\n",
    "\n",
    "ax = times_df.plot.bar(y='Value', ylabel=\"Milliseconds\", legend=False)\n",
    "\n",
    "labels = ['Loop', 'BST']\n",
    "ax.set_xticklabels(labels)"
   ]
  },
  {
   "cell_type": "code",
   "execution_count": 28,
   "id": "9447cea6-4758-4c26-898c-10f0fab9ed1b",
   "metadata": {
    "tags": []
   },
   "outputs": [
    {
     "data": {
      "text/plain": [
       "<Axes: xlabel='Number of Race Selections', ylabel='Number of Applicants'>"
      ]
     },
     "execution_count": 28,
     "metadata": {},
     "output_type": "execute_result"
    },
    {
     "data": {
      "image/png": "[encoded data removed]",
      "text/plain": [
       "<Figure size 640x480 with 1 Axes>"
      ]
     },
     "metadata": {},
     "output_type": "display_data"
    }
   ],
   "source": [
    "#Q8 \n",
    "empty_dict = {}\n",
    "for l in uwcu:\n",
    "    for applicant_race in l.applicants:\n",
    "        race = len(applicant_race.race)\n",
    "        if race in empty_dict:\n",
    "            empty_dict[race] += 1\n",
    "        else:\n",
    "            empty_dict[race] = 1\n",
    "\n",
    "\n",
    "df = pd.Series(empty_dict)\n",
    "df.plot.bar(xlabel = \"Number of Race Selections\", ylabel = \"Number of Applicants\")\n"
   ]
  },
  {
   "cell_type": "code",
   "execution_count": 29,
   "id": "ac765ea8-2f14-4637-aa76-5ac0c13c588a",
   "metadata": {},
   "outputs": [
    {
     "data": {
      "text/plain": [
       "9"
      ]
     },
     "execution_count": 29,
     "metadata": {},
     "output_type": "execute_result"
    }
   ],
   "source": [
    "#Q9\n",
    "tree = search.BST()\n",
    "for l in uwcu:\n",
    "    tree.add(l.interest_rate, l)\n",
    "tree.count_leaf_node(tree.root)\n"
   ]
  },
  {
   "cell_type": "code",
   "execution_count": 30,
   "id": "87f2ef62-73ee-4daa-96a7-ad082eb3f0f8",
   "metadata": {},
   "outputs": [
    {
     "data": {
      "text/plain": [
       "5.0"
      ]
     },
     "execution_count": 30,
     "metadata": {},
     "output_type": "execute_result"
    }
   ],
   "source": [
    "#Q10\n",
    "tree.inorderSearch()[-4]\n",
    "#Got help at office hours and TA recommended the best method to answer this question was an inorder search, the method was partially written with help from https://www.geeksforgeeks.org/binary-search-tree-traversal-inorder-preorder-post-order/"
   ]
  }
 ],
 "metadata": {
  "kernelspec": {
   "display_name": "Python 3 (ipykernel)",
   "language": "python",
   "name": "python3"
  },
  "language_info": {
   "codemirror_mode": {
    "name": "ipython",
    "version": 3
   },
   "file_extension": ".py",
   "mimetype": "text/x-python",
   "name": "python",
   "nbconvert_exporter": "python",
   "pygments_lexer": "ipython3",
   "version": "3.10.12"
  }
 },
 "nbformat": 4,
 "nbformat_minor": 5
}
