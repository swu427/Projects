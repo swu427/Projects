{
 "cells": [
  {
   "cell_type": "code",
   "execution_count": 4,
   "id": "5340665d-ffc8-4bbb-87fb-28c8f93792aa",
   "metadata": {},
   "outputs": [
    {
     "data": {
      "text/plain": [
       "'101.1.1.000'"
      ]
     },
     "execution_count": 4,
     "metadata": {},
     "output_type": "execute_result"
    }
   ],
   "source": [
    "import re\n",
    "ipaddr = \"101.1.1.abc\"\n",
    "ip_reformatted = re.sub(r\"[A-Za-z+]\", r\"0\", ipaddr)\n",
    "ip_reformatted"
   ]
  },
  {
   "cell_type": "code",
   "execution_count": 5,
   "id": "785f133b-3977-438d-8c88-49e23fb78327",
   "metadata": {},
   "outputs": [
    {
     "data": {
      "text/plain": [
       "1694564608"
      ]
     },
     "execution_count": 5,
     "metadata": {},
     "output_type": "execute_result"
    }
   ],
   "source": [
    "import netaddr\n",
    "int(netaddr.IPAddress(ip_reformatted))"
   ]
  },
  {
   "cell_type": "code",
   "execution_count": 8,
   "id": "e1bbdddb-b72f-4d7c-a9ef-4da017800066",
   "metadata": {},
   "outputs": [],
   "source": [
    "L = [1, 2, 100, 222, 900]"
   ]
  },
  {
   "cell_type": "code",
   "execution_count": 10,
   "id": "0c9e582d-6645-4211-834c-087213094b3d",
   "metadata": {},
   "outputs": [
    {
     "data": {
      "text/plain": [
       "4"
      ]
     },
     "execution_count": 10,
     "metadata": {},
     "output_type": "execute_result"
    }
   ],
   "source": [
    "from bisect import bisect\n",
    "idx = bisect(L, 225)\n",
    "idx"
   ]
  },
  {
   "cell_type": "code",
   "execution_count": 3,
   "id": "355b0859-96e1-4740-a06e-b42c64a8fc33",
   "metadata": {},
   "outputs": [
    {
     "data": {
      "text/html": [
       "<div>\n",
       "<style scoped>\n",
       "    .dataframe tbody tr th:only-of-type {\n",
       "        vertical-align: middle;\n",
       "    }\n",
       "\n",
       "    .dataframe tbody tr th {\n",
       "        vertical-align: top;\n",
       "    }\n",
       "\n",
       "    .dataframe thead th {\n",
       "        text-align: right;\n",
       "    }\n",
       "</style>\n",
       "<table border=\"1\" class=\"dataframe\">\n",
       "  <thead>\n",
       "    <tr style=\"text-align: right;\">\n",
       "      <th></th>\n",
       "      <th>low</th>\n",
       "      <th>high</th>\n",
       "      <th>code</th>\n",
       "      <th>region</th>\n",
       "    </tr>\n",
       "  </thead>\n",
       "  <tbody>\n",
       "    <tr>\n",
       "      <th>0</th>\n",
       "      <td>0</td>\n",
       "      <td>16777215</td>\n",
       "      <td>-</td>\n",
       "      <td>-</td>\n",
       "    </tr>\n",
       "    <tr>\n",
       "      <th>1</th>\n",
       "      <td>16777216</td>\n",
       "      <td>16777471</td>\n",
       "      <td>US</td>\n",
       "      <td>United States of America</td>\n",
       "    </tr>\n",
       "    <tr>\n",
       "      <th>2</th>\n",
       "      <td>16777472</td>\n",
       "      <td>16778239</td>\n",
       "      <td>CN</td>\n",
       "      <td>China</td>\n",
       "    </tr>\n",
       "    <tr>\n",
       "      <th>3</th>\n",
       "      <td>16778240</td>\n",
       "      <td>16779263</td>\n",
       "      <td>AU</td>\n",
       "      <td>Australia</td>\n",
       "    </tr>\n",
       "    <tr>\n",
       "      <th>4</th>\n",
       "      <td>16779264</td>\n",
       "      <td>16781311</td>\n",
       "      <td>CN</td>\n",
       "      <td>China</td>\n",
       "    </tr>\n",
       "    <tr>\n",
       "      <th>...</th>\n",
       "      <td>...</td>\n",
       "      <td>...</td>\n",
       "      <td>...</td>\n",
       "      <td>...</td>\n",
       "    </tr>\n",
       "    <tr>\n",
       "      <th>174967</th>\n",
       "      <td>3758094336</td>\n",
       "      <td>3758095359</td>\n",
       "      <td>HK</td>\n",
       "      <td>Hong Kong</td>\n",
       "    </tr>\n",
       "    <tr>\n",
       "      <th>174968</th>\n",
       "      <td>3758095360</td>\n",
       "      <td>3758095871</td>\n",
       "      <td>CN</td>\n",
       "      <td>China</td>\n",
       "    </tr>\n",
       "    <tr>\n",
       "      <th>174969</th>\n",
       "      <td>3758095872</td>\n",
       "      <td>3758096127</td>\n",
       "      <td>SG</td>\n",
       "      <td>Singapore</td>\n",
       "    </tr>\n",
       "    <tr>\n",
       "      <th>174970</th>\n",
       "      <td>3758096128</td>\n",
       "      <td>3758096383</td>\n",
       "      <td>AU</td>\n",
       "      <td>Australia</td>\n",
       "    </tr>\n",
       "    <tr>\n",
       "      <th>174971</th>\n",
       "      <td>3758096384</td>\n",
       "      <td>4294967295</td>\n",
       "      <td>-</td>\n",
       "      <td>-</td>\n",
       "    </tr>\n",
       "  </tbody>\n",
       "</table>\n",
       "<p>174972 rows × 4 columns</p>\n",
       "</div>"
      ],
      "text/plain": [
       "               low        high code                    region\n",
       "0                0    16777215    -                         -\n",
       "1         16777216    16777471   US  United States of America\n",
       "2         16777472    16778239   CN                     China\n",
       "3         16778240    16779263   AU                 Australia\n",
       "4         16779264    16781311   CN                     China\n",
       "...            ...         ...  ...                       ...\n",
       "174967  3758094336  3758095359   HK                 Hong Kong\n",
       "174968  3758095360  3758095871   CN                     China\n",
       "174969  3758095872  3758096127   SG                 Singapore\n",
       "174970  3758096128  3758096383   AU                 Australia\n",
       "174971  3758096384  4294967295    -                         -\n",
       "\n",
       "[174972 rows x 4 columns]"
      ]
     },
     "execution_count": 3,
     "metadata": {},
     "output_type": "execute_result"
    }
   ],
   "source": [
    "import pandas as pd\n",
    "ips = pd.read_csv(\"ip2location.csv\")\n",
    "ips"
   ]
  },
  {
   "cell_type": "code",
   "execution_count": 24,
   "id": "a28e5944-aeb5-4b71-9711-984358519907",
   "metadata": {},
   "outputs": [
    {
     "ename": "NameError",
     "evalue": "name 'bisect' is not defined",
     "output_type": "error",
     "traceback": [
      "\u001b[0;31m---------------------------------------------------------------------------\u001b[0m",
      "\u001b[0;31mNameError\u001b[0m                                 Traceback (most recent call last)",
      "Cell \u001b[0;32mIn[11], line 1\u001b[0m\n\u001b[0;32m----> 1\u001b[0m idx \u001b[38;5;241m=\u001b[39m \u001b[43mbisect\u001b[49m(ips[\u001b[38;5;124m\"\u001b[39m\u001b[38;5;124mlow\u001b[39m\u001b[38;5;124m\"\u001b[39m], \u001b[38;5;241m578623355\u001b[39m)\n\u001b[1;32m      2\u001b[0m idx\n\u001b[1;32m      3\u001b[0m ips\u001b[38;5;241m.\u001b[39miloc[idx\u001b[38;5;241m-\u001b[39m\u001b[38;5;241m1\u001b[39m][\u001b[38;5;124m\"\u001b[39m\u001b[38;5;124mregion\u001b[39m\u001b[38;5;124m\"\u001b[39m]\n",
      "\u001b[0;31mNameError\u001b[0m: name 'bisect' is not defined"
     ]
    }
   ],
   "source": [
    "idx = bisect(ips[\"low\"], 578623355)\n",
    "idx\n",
    "ips.iloc[idx-1]"
   ]
  },
  {
   "cell_type": "code",
   "execution_count": 4,
   "id": "c66d15a2-01ed-49d1-9d49-7f4842f9752c",
   "metadata": {},
   "outputs": [
    {
     "name": "stdout",
     "output_type": "stream",
     "text": [
      "The autoreload extension is already loaded. To reload it, use:\n",
      "  %reload_ext autoreload\n"
     ]
    }
   ],
   "source": [
    "from edgar_utils import lookup_region\n",
    "%load_ext autoreload\n",
    "%autoreload 2"
   ]
  },
  {
   "cell_type": "code",
   "execution_count": 13,
   "id": "158f1349-eaa6-4484-8146-b085d2a2b1f8",
   "metadata": {},
   "outputs": [
    {
     "data": {
      "text/plain": [
       "'China'"
      ]
     },
     "execution_count": 13,
     "metadata": {},
     "output_type": "execute_result"
    }
   ],
   "source": [
    "lookup_region(\"101.1.1.abc\")"
   ]
  },
  {
   "cell_type": "code",
   "execution_count": 3,
   "id": "610def00-88c5-4279-9472-57286f2cad11",
   "metadata": {},
   "outputs": [],
   "source": [
    "html = \"\"\"<!DOCTYPE HTML PUBLIC \"-//W3C//DTD HTML 4.01 Transitional//EN\" \"http://www.w3.org/TR/html4/loose.dtd\">\n",
    "<html xmlns=\"http://www.w3.org/1999/xhtml\">\n",
    "<head>\n",
    "<meta http-equiv=\"Content-Type\" content=\"text/html; charset=utf-8\" />\n",
    "<meta http-equiv=\"Last-Modified\" content=\"Fri, 12 Feb 2016 00:05:37 GMT\" />\n",
    "<title>EDGAR Filing Documents for 0001050470-16-000051</title>\n",
    "<link rel=\"stylesheet\" type=\"text/css\" href=\"/include/interactive.css\" />\n",
    "</head>\n",
    "<body style=\"margin: 0\">\n",
    "<!-- SEC Web Analytics - For information please visit: https://www.sec.gov/privacy.htm#collectedinfo -->\n",
    "<noscript><iframe src=\"//www.googletagmanager.com/ns.html?id=GTM-TD3BKV\"\n",
    "height=\"0\" width=\"0\" style=\"display:none;visibility:hidden\"></iframe></noscript>\n",
    "<script>(function(w,d,s,l,i){w[l]=w[l]||[];w[l].push({'gtm.start':\n",
    "new Date().getTime(),event:'gtm.js'});var f=d.getElementsByTagName(s)[0],\n",
    "j=d.createElement(s),dl=l!='dataLayer'?'&l='+l:'';j.async=true;j.src=\n",
    "'//www.googletagmanager.com/gtm.js?id='+i+dl;f.parentNode.insertBefore(j,f);\n",
    "})(window,document,'script','dataLayer','GTM-TD3BKV');</script>\n",
    "<!-- End SEC Web Analytics -->\n",
    "<noscript><div style=\"color:red; font-weight:bold; text-align:center;\">This page uses Javascript. Your browser either doesn't support Javascript or you have it turned off. To see this page as it is meant to appear please use a Javascript enabled browser.</div></noscript>\n",
    "<!-- BEGIN BANNER -->\n",
    "<div id=\"headerTop\">\n",
    "   <div id=\"Nav\"><a href=\"/index.htm\">Home</a> | <a href=\"/cgi-bin/browse-edgar?action=getcurrent\">Latest Filings</a> | <a href=\"javascript:history.back()\">Previous Page</a></div>\n",
    "   <div id=\"seal\"><a href=\"/index.htm\"><img src=\"/images/sealTop.gif\" alt=\"SEC Seal\" border=\"0\" /></a></div>\n",
    "   <div id=\"secWordGraphic\"><img src=\"/images/bannerTitle.gif\" alt=\"SEC Banner\" /></div>\n",
    "</div>\n",
    "<div id=\"headerBottom\">\n",
    "   <div id=\"searchHome\"><a href=\"/edgar/searchedgar/webusers.htm\">Search the Next-Generation EDGAR System</a></div>\n",
    "   <div id=\"PageTitle\">Filing Detail</div>\n",
    "</div>\n",
    "<!-- END BANNER -->\n",
    "\n",
    "\n",
    "<!-- BEGIN BREADCRUMBS -->\n",
    "<div id=\"breadCrumbs\">\n",
    "   <ul>\n",
    "      <li><a href=\"/index.htm\">SEC Home</a> &#187;</li>\n",
    "      <li><a href=\"/edgar/searchedgar/webusers.htm\">Search the Next-Generation EDGAR System</a> &#187;</li>\n",
    "      <li><a href=\"/edgar/searchedgar/companysearch.html\">Company Search</a> &#187;</li>\n",
    "      <li class=\"last\">Current Page</li>\n",
    "   </ul>\n",
    "</div>\n",
    "<!-- END BREADCRUMBS -->\n",
    "\n",
    "<div id=\"contentDiv\">\n",
    "<!-- START FILING DIV -->\n",
    "<div id=\"formDiv\">\n",
    "   <div id=\"formHeader\">\n",
    "      <div id=\"formName\">\n",
    "         <strong>Form SC 13G</strong> - Statement of acquisition of beneficial ownership by individuals: \n",
    "      </div>\n",
    "      <div id=\"secNum\">\n",
    "         <strong><acronym title=\"Securities and Exchange Commission\">SEC</acronym> Accession <acronym title=\"Number\">No.</acronym></strong> 0001050470-16-000051\n",
    "      </div>\n",
    "   </div>\n",
    "   <div class=\"formContent\">\n",
    "      <div class=\"formGrouping\">\n",
    "         <div class=\"infoHead\">Filing Date</div>\n",
    "         <div class=\"info\">2016-02-12</div>\n",
    "         <div class=\"infoHead\">Accepted</div>\n",
    "         <div class=\"info\">2016-02-11 19:05:37</div>\n",
    "         <div class=\"infoHead\">Documents</div>\n",
    "         <div class=\"info\">1</div>\n",
    "      </div>\n",
    "      <div style=\"clear:both\"></div>\n",
    "   </div>\n",
    "</div>\n",
    "<!-- END FILING DIV -->\n",
    "<!-- START DOCUMENT DIV -->\n",
    "<div id=\"formDiv\">\n",
    "   <div style=\"padding: 0px 0px 4px 0px; font-size: 12px; margin: 0px 2px 0px 5px; width: 100%; overflow:hidden\">\n",
    "      <p>Document Format Files</p>\n",
    "      <table class=\"tableFile\" summary=\"Document Format Files\">\n",
    "         <tr>\n",
    "            <th scope=\"col\" style=\"width: 5%;\"><acronym title=\"Sequence Number\">Seq</acronym></th>\n",
    "            <th scope=\"col\" style=\"width: 40%;\">Description</th>\n",
    "            <th scope=\"col\" style=\"width: 20%;\">Document</th>\n",
    "            <th scope=\"col\" style=\"width: 10%;\">Type</th>\n",
    "            <th scope=\"col\">Size</th>\n",
    "         </tr>\n",
    "         <tr>\n",
    "            <td scope=\"row\">1</td>\n",
    "            <td scope=\"row\">LSV13G123115MEDALLION.TXT</td>\n",
    "            <td scope=\"row\"><a href=\"/Archives/edgar/data/1000209/000105047016000051/lsv13g123115medallion.txt\">lsv13g123115medallion.txt</a></td>\n",
    "            <td scope=\"row\">SC 13G</td>\n",
    "            <td scope=\"row\">8314</td>\n",
    "         </tr>\n",
    "         <tr class=\"blueRow\">\n",
    "            <td scope=\"row\">&nbsp;</td>\n",
    "            <td scope=\"row\">Complete submission text file</td>\n",
    "            <td scope=\"row\"><a href=\"/Archives/edgar/data/1000209/000105047016000051/0001050470-16-000051.txt\">0001050470-16-000051.txt</a></td>\n",
    "            <td scope=\"row\">&nbsp;</td>\n",
    "            <td scope=\"row\">9803</td>\n",
    "         </tr>\n",
    "      </table>\t\n",
    "   </div>\n",
    "</div>\n",
    "<!-- END DOCUMENT DIV -->\n",
    "<!-- START FILER DIV -->\n",
    "<div id=\"filerDiv\">\n",
    "   <div class=\"mailer\">Mailing Address\n",
    "      <span class=\"mailerAddress\">437 MADISON AVENUE</span>\n",
    "      <span class=\"mailerAddress\">38TH FLOOR</span>\n",
    "      <span class=\"mailerAddress\">\n",
    "NEW YORK NY 10022      </span>\n",
    "   </div>\n",
    "   <div class=\"mailer\">Business Address\n",
    "      <span class=\"mailerAddress\">437 MADISON AVE 38 TH FLOOR</span>\n",
    "      <span class=\"mailerAddress\">\n",
    "NEW YORK NY 10022      </span>\n",
    "      <span class=\"mailerAddress\">2123282153</span>\n",
    "   </div>\n",
    "<div class=\"companyInfo\">\n",
    "  <span class=\"companyName\">MEDALLION FINANCIAL CORP (Subject)\n",
    " <acronym title=\"Central Index Key\">CIK</acronym>: <a href=\"/cgi-bin/browse-edgar?CIK=0001000209&amp;action=getcompany\">0001000209 (see all company filings)</a></span>\n",
    "<p class=\"identInfo\"><acronym title=\"Internal Revenue Service Number\">IRS No.</acronym>: <strong>043291176</strong> | State of Incorp.: <strong>DE</strong> | Fiscal Year End: <strong>1231</strong><br />Type: <strong>SC 13G</strong> | Act: <strong>34</strong> | File No.: <a href=\"/cgi-bin/browse-edgar?filenum=005-48473&amp;action=getcompany\"><strong>005-48473</strong></a> | Film No.: <strong>161413579</strong><br /><acronym title=\"Standard Industrial Code\">SIC</acronym>: <b><a href=\"/cgi-bin/browse-edgar?action=getcompany&amp;SIC=6199&amp;owner=include\">6199</a></b> Finance Services<br />Office of Finance</p>\n",
    "</div>\n",
    "<div class=\"clear\"></div>\n",
    "</div>\n",
    "<div id=\"filerDiv\">\n",
    "   <div class=\"mailer\">Mailing Address\n",
    "      <span class=\"mailerAddress\">155 NORTH WACKER DRIVE</span>\n",
    "      <span class=\"mailerAddress\">SUITE 4600</span>\n",
    "      <span class=\"mailerAddress\">\n",
    "CHICAGO IL 60606      </span>\n",
    "   </div>\n",
    "   <div class=\"mailer\">Business Address\n",
    "      <span class=\"mailerAddress\">155 NORTH WACKER DRIVE</span>\n",
    "      <span class=\"mailerAddress\">SUITE 4600</span>\n",
    "      <span class=\"mailerAddress\">\n",
    "CHICAGO IL 60606      </span>\n",
    "      <span class=\"mailerAddress\">312-460-2443</span>\n",
    "   </div>\n",
    "<div class=\"companyInfo\">\n",
    "  <span class=\"companyName\">LSV ASSET MANAGEMENT (Filed by)\n",
    " <acronym title=\"Central Index Key\">CIK</acronym>: <a href=\"/cgi-bin/browse-edgar?CIK=0001050470&amp;action=getcompany\">0001050470 (see all company filings)</a></span>\n",
    "<p class=\"identInfo\"><acronym title=\"Internal Revenue Service Number\">IRS No.</acronym>: <strong>232772200</strong> | State of Incorp.: <strong>DE</strong> | Fiscal Year End: <strong>1231</strong><br />Type: <strong>SC 13G</strong></p>\n",
    "</div>\n",
    "<div class=\"clear\"></div>\n",
    "</div>\n",
    "<!-- END FILER DIV -->\n",
    "</div>\"\"\""
   ]
  },
  {
   "cell_type": "code",
   "execution_count": 69,
   "id": "296e5ea1-25ec-4ecc-9ac7-ea4c1c173534",
   "metadata": {
    "tags": []
   },
   "outputs": [
    {
     "name": "stdout",
     "output_type": "stream",
     "text": [
      "2016-02-12\n",
      "2016-02-11\n"
     ]
    }
   ],
   "source": [
    "import re\n",
    "dates  = re.findall(r\"((19\\d{2}|20\\d{2})-(0[1-9]|1[0-2])-(0[1-9]|1[0-9]|2[0-9]|3[0-1]))\", html)\n",
    "for date in dates:\n",
    "    print(date[0])"
   ]
  },
  {
   "cell_type": "code",
   "execution_count": 80,
   "id": "88199fc3-6e7f-445f-888d-dd9fbea97e45",
   "metadata": {},
   "outputs": [
    {
     "name": "stdout",
     "output_type": "stream",
     "text": [
      "6199\n"
     ]
    }
   ],
   "source": [
    "sic_digits = re.findall(r\"SIC=(\\d+)\", html)\n",
    "\n",
    "sic_digits[0]\n",
    "for digits in sic_digits:\n",
    "    print(digits)"
   ]
  },
  {
   "cell_type": "code",
   "execution_count": 23,
   "id": "59af2121-46a0-48ee-b30d-8e363458d768",
   "metadata": {},
   "outputs": [
    {
     "name": "stdout",
     "output_type": "stream",
     "text": [
      "Mailing Address\n",
      "      <span class=\"mailerAddress\">437 MADISON AVENUE</span>\n",
      "      <span class=\"mailerAddress\">38TH FLOOR</span>\n",
      "      <span class=\"mailerAddress\">\n",
      "NEW YORK NY 10022      </span>\n",
      "   \n",
      "Business Address\n",
      "      <span class=\"mailerAddress\">437 MADISON AVE 38 TH FLOOR</span>\n",
      "      <span class=\"mailerAddress\">\n",
      "NEW YORK NY 10022      </span>\n",
      "      <span class=\"mailerAddress\">2123282153</span>\n",
      "   \n",
      "Mailing Address\n",
      "      <span class=\"mailerAddress\">155 NORTH WACKER DRIVE</span>\n",
      "      <span class=\"mailerAddress\">SUITE 4600</span>\n",
      "      <span class=\"mailerAddress\">\n",
      "CHICAGO IL 60606      </span>\n",
      "   \n",
      "Business Address\n",
      "      <span class=\"mailerAddress\">155 NORTH WACKER DRIVE</span>\n",
      "      <span class=\"mailerAddress\">SUITE 4600</span>\n",
      "      <span class=\"mailerAddress\">\n",
      "CHICAGO IL 60606      </span>\n",
      "      <span class=\"mailerAddress\">312-460-2443</span>\n",
      "   \n"
     ]
    }
   ],
   "source": [
    "for addr_html in re.findall(r'<div class=\"mailer\">([\\s\\S]+?)</div>', html):\n",
    "    print(addr_html)"
   ]
  },
  {
   "cell_type": "code",
   "execution_count": 90,
   "id": "25532bf5-2c97-4e80-a448-726a051cbe0a",
   "metadata": {
    "tags": []
   },
   "outputs": [
    {
     "data": {
      "text/plain": [
       "['437 MADISON AVENUE\\n38TH FLOOR\\nNEW YORK NY 10022',\n",
       " '437 MADISON AVE 38 TH FLOOR\\nNEW YORK NY 10022\\n2123282153',\n",
       " '155 NORTH WACKER DRIVE\\nSUITE 4600\\nCHICAGO IL 60606',\n",
       " '155 NORTH WACKER DRIVE\\nSUITE 4600\\nCHICAGO IL 60606\\n312-460-2443']"
      ]
     },
     "execution_count": 90,
     "metadata": {},
     "output_type": "execute_result"
    }
   ],
   "source": [
    "\n",
    "addresses = []\n",
    "for addr_html in re.findall(r'<div class=\"mailer\">([\\s\\S]+?)</div>', html):\n",
    "    lines = []\n",
    "    for line in re.findall(r'<span class=\"mailerAddress\">([\\s\\S]+?)</span>', addr_html):\n",
    "        lines.append(line.strip())\n",
    "    addresses.append(\"\\n\".join(lines))\n",
    "addresses\n",
    "\n"
   ]
  },
  {
   "cell_type": "code",
   "execution_count": 97,
   "id": "547f09e2-2c81-4e37-97d4-4d36374dd8ec",
   "metadata": {},
   "outputs": [
    {
     "name": "stdout",
     "output_type": "stream",
     "text": [
      "NY\n",
      "NY\n",
      "IL\n",
      "IL\n"
     ]
    }
   ],
   "source": [
    "for addr in addresses:\n",
    "    match = re.search(r\"(\\w{2}\\s{1}\\d{5})\", addr)\n",
    "    if match:\n",
    "        state_abbr = match.group().split()[0]\n",
    "    print(state_abbr)"
   ]
  }
 ],
 "metadata": {
  "kernelspec": {
   "display_name": "Python 3 (ipykernel)",
   "language": "python",
   "name": "python3"
  },
  "language_info": {
   "codemirror_mode": {
    "name": "ipython",
    "version": 3
   },
   "file_extension": ".py",
   "mimetype": "text/x-python",
   "name": "python",
   "nbconvert_exporter": "python",
   "pygments_lexer": "ipython3",
   "version": "3.10.12"
  }
 },
 "nbformat": 4,
 "nbformat_minor": 5
}
