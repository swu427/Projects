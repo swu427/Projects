{
 "cells": [
  {
   "cell_type": "code",
   "execution_count": 1,
   "id": "cd6776b1-45e1-4a61-bcef-98878bfb58d1",
   "metadata": {},
   "outputs": [],
   "source": [
    "# project: p3\n",
    "# submitter: ????\n",
    "# partner: none\n",
    "# hours: ????"
   ]
  },
  {
   "cell_type": "code",
   "execution_count": null,
   "id": "9ba7659e-2835-4e13-997e-eeb043f0572f",
   "metadata": {},
   "outputs": [
    {
     "name": "stdout",
     "output_type": "stream",
     "text": [
      "The autoreload extension is already loaded. To reload it, use:\n",
      "  %reload_ext autoreload\n"
     ]
    }
   ],
   "source": [
    "from scrape import GraphSearcher\n",
    "from scrape import MatrixSearcher\n",
    "import os \n",
    "import pandas as pd\n",
    "# %load_ext autoreload\n",
    "# %autoreload 2"
   ]
  },
  {
   "cell_type": "code",
   "execution_count": null,
   "id": "86286d1d-0d28-4b77-b25d-425ea3be848c",
   "metadata": {},
   "outputs": [],
   "source": [
    "# g = GraphSearcher()\n",
    "# g.dfs_search(\"A\")"
   ]
  },
  {
   "cell_type": "code",
   "execution_count": null,
   "id": "ff2f8d3d-8705-4eb0-89f1-42bb9972226c",
   "metadata": {},
   "outputs": [
    {
     "data": {
      "text/html": [
       "<div>\n",
       "<style scoped>\n",
       "    .dataframe tbody tr th:only-of-type {\n",
       "        vertical-align: middle;\n",
       "    }\n",
       "\n",
       "    .dataframe tbody tr th {\n",
       "        vertical-align: top;\n",
       "    }\n",
       "\n",
       "    .dataframe thead th {\n",
       "        text-align: right;\n",
       "    }\n",
       "</style>\n",
       "<table border=\"1\" class=\"dataframe\">\n",
       "  <thead>\n",
       "    <tr style=\"text-align: right;\">\n",
       "      <th></th>\n",
       "      <th>A</th>\n",
       "      <th>B</th>\n",
       "      <th>C</th>\n",
       "      <th>D</th>\n",
       "    </tr>\n",
       "  </thead>\n",
       "  <tbody>\n",
       "    <tr>\n",
       "      <th>A</th>\n",
       "      <td>0</td>\n",
       "      <td>1</td>\n",
       "      <td>0</td>\n",
       "      <td>1</td>\n",
       "    </tr>\n",
       "    <tr>\n",
       "      <th>B</th>\n",
       "      <td>0</td>\n",
       "      <td>0</td>\n",
       "      <td>1</td>\n",
       "      <td>0</td>\n",
       "    </tr>\n",
       "    <tr>\n",
       "      <th>C</th>\n",
       "      <td>0</td>\n",
       "      <td>0</td>\n",
       "      <td>0</td>\n",
       "      <td>1</td>\n",
       "    </tr>\n",
       "    <tr>\n",
       "      <th>D</th>\n",
       "      <td>0</td>\n",
       "      <td>0</td>\n",
       "      <td>1</td>\n",
       "      <td>0</td>\n",
       "    </tr>\n",
       "  </tbody>\n",
       "</table>\n",
       "</div>"
      ],
      "text/plain": [
       "   A  B  C  D\n",
       "A  0  1  0  1\n",
       "B  0  0  1  0\n",
       "C  0  0  0  1\n",
       "D  0  0  1  0"
      ]
     },
     "execution_count": 18,
     "metadata": {},
     "output_type": "execute_result"
    }
   ],
   "source": [
    "\n",
    "\n",
    "df = pd.DataFrame([\n",
    "    [0,1,0,1],\n",
    "    [0,0,1,0],\n",
    "    [0,0,0,1],\n",
    "    [0,0,1,0],\n",
    "], index=[\"A\", \"B\", \"C\", \"D\"], columns=[\"A\", \"B\", \"C\", \"D\"])\n",
    "df"
   ]
  },
  {
   "cell_type": "code",
   "execution_count": null,
   "id": "3260595c-60a9-45e8-906d-b5d1d391b2c3",
   "metadata": {},
   "outputs": [
    {
     "data": {
      "text/plain": [
       "A    0\n",
       "B    1\n",
       "C    0\n",
       "D    1\n",
       "Name: A, dtype: int64"
      ]
     },
     "execution_count": 19,
     "metadata": {},
     "output_type": "execute_result"
    }
   ],
   "source": [
    "df.loc[\"A\"]"
   ]
  },
  {
   "cell_type": "code",
   "execution_count": null,
   "id": "83874315-56ad-4397-ae40-729b05f10a58",
   "metadata": {},
   "outputs": [
    {
     "name": "stdout",
     "output_type": "stream",
     "text": [
      "C\n"
     ]
    }
   ],
   "source": [
    "for node, has_edge in df.loc[\"B\"].items():\n",
    "    if has_edge == 1:\n",
    "        print(node)"
   ]
  },
  {
   "cell_type": "code",
   "execution_count": null,
   "id": "a0e89836-aaf9-4f59-a9cb-c1333e9fa702",
   "metadata": {},
   "outputs": [
    {
     "data": {
      "text/plain": [
       "['A', 'B', 'C', 'D']"
      ]
     },
     "execution_count": 21,
     "metadata": {},
     "output_type": "execute_result"
    }
   ],
   "source": [
    "m = MatrixSearcher(df)\n",
    "m.dfs_search(\"A\")\n",
    "m.order"
   ]
  },
  {
   "cell_type": "code",
   "execution_count": 13,
   "id": "6ad8462e-5a36-4c88-a697-9135b163a0e6",
   "metadata": {},
   "outputs": [
    {
     "data": {
      "text/plain": [
       "['A', 'B', 'D', 'C']"
      ]
     },
     "execution_count": 13,
     "metadata": {},
     "output_type": "execute_result"
    }
   ],
   "source": [
    "m = MatrixSearcher(df)\n",
    "m.bfs_search(\"A\")\n",
    "m.order"
   ]
  },
  {
   "cell_type": "code",
   "execution_count": null,
   "id": "62062b75-2996-4eb7-8a16-37d76b629c74",
   "metadata": {
    "tags": []
   },
   "outputs": [
    {
     "name": "stdout",
     "output_type": "stream",
     "text": [
      "['2.txt', '4.txt'] ['M'] M\n"
     ]
    }
   ],
   "source": [
    "import scrape\n",
    "f = scrape.FileSearcher()\n",
    "print(f.visit_and_get_children(\"1.txt\"), f.order, f.concat_order())"
   ]
  },
  {
   "cell_type": "code",
   "execution_count": 110,
   "id": "61616613-a158-46a8-abab-a71b5b816033",
   "metadata": {},
   "outputs": [
    {
     "name": "stdout",
     "output_type": "stream",
     "text": [
      "The autoreload extension is already loaded. To reload it, use:\n",
      "  %reload_ext autoreload\n"
     ]
    }
   ],
   "source": [
    "import os\n",
    "from selenium.webdriver.chrome.options import Options\n",
    "from selenium.webdriver.chrome.service import Service\n",
    "from selenium import webdriver\n",
    "import scrape\n",
    "%load_ext autoreload\n",
    "%autoreload 2\n",
    "\n",
    "# kill previous chrome instance if still around (to conserve memory)\n",
    "os.system(\"pkill -f -9 chromium\")\n",
    "\n",
    "options = Options()\n",
    "options.headless = True\n",
    "service = Service(executable_path=\"chromium.chromedriver\")\n",
    "driver = webdriver.Chrome(options=options, service=service)\n",
    "\n",
    "# TODO: use IP address of your VM\n",
    "start_url = \"http://34.125.23.123:5000/Node_1.html\"\n",
    "\n",
    "s = scrape.WebSearcher(driver)\n",
    "# print(s.visit_and_get_children(start_url))\n",
    "\n",
    "s = scrape.WebSearcher(driver)\n",
    "s.bfs_search(start_url)\n",
    "\n",
    "# print(s.table())\n",
    "\n",
    "table = s.table()\n",
    "\n"
   ]
  },
  {
   "cell_type": "code",
   "execution_count": 89,
   "id": "74dd0e4b-b934-4e5f-852e-20ea33a5ae30",
   "metadata": {},
   "outputs": [],
   "source": [
    "options = Options()\n",
    "options.headless = True # don't use a GUI (necessary on a VM)\n",
    "service = Service(executable_path=\"chromium.chromedriver\")\n",
    "b = webdriver.Chrome(options=options, service=service)"
   ]
  },
  {
   "cell_type": "code",
   "execution_count": 90,
   "id": "e3fc3bae-9214-4605-a331-42aa30999dd5",
   "metadata": {},
   "outputs": [
    {
     "name": "stdout",
     "output_type": "stream",
     "text": [
      "<html><head>\n",
      " <link href=\"https://fonts.googleapis.com/css2?family=VT323&amp;display=swap\" rel=\"stylesheet\">\n",
      " <link rel=\"stylesheet\" href=\"styles.css\">\n",
      "<style>\n",
      "\n",
      "  table.center {\n",
      "    margin-left: auto; \n",
      "    margin-right: auto;\n",
      "    border: 1px solid black;\n",
      "  }\n",
      "  .center {\n",
      "    text-align: center;\n",
      "  }\n",
      "\n",
      "  .button {\n",
      "    background-color: #4CAF50; /* Green */\n",
      "    border: black;\n",
      "    color: white;\n",
      "    padding: 16px 32px;\n",
      "    text-align: center;\n",
      "    text-decoration: none;\n",
      "    display: inline-block;\n",
      "    font-size: 16px;\n",
      "    margin: 4px 2px;\n",
      "    transition-duration: 0.4s;\n",
      "    cursor: pointer;\n",
      "  }\n",
      "\n",
      "  .button-bfs {\n",
      "    background: rgb(177, 80, 90);\n",
      "    border-radius: 12px;\n",
      "    /* this is a maroon */\n",
      "  }\n",
      "  .button-dfs {\n",
      "    background: rgb(77, 80, 150);\n",
      "    border-radius: 12px;\n",
      "    /* this is a maroon */\n",
      "  }\n",
      "  .button2 {\n",
      "    background-color: blue; \n",
      "    color: black; \n",
      "    border: 2px solid #008CBA;\n",
      "  }\n",
      "\n",
      "  .button2:hover {\n",
      "    background-color: #008CBA;\n",
      "    color: white;\n",
      "  }\n",
      "</style>\n",
      "</head>\n",
      "\n",
      "<body>\n",
      "    <div align=\"center\">\n",
      "        <h1>TOP SECRET: Current Location!</h1>\n",
      "        <button type=\"button\" onclick=\"btnClicked()\" id=\"location-button\">\n",
      "            View Location\n",
      "        </button>\n",
      "    </div>\n",
      "    \n",
      "\n",
      "    <script>\n",
      "        function btnClicked() {\n",
      "            document.getElementById('location-button').innerText = 'Loading...';\n",
      "            setTimeout(revealLocation, 1000);\n",
      "           \n",
      "            \n",
      "        function revealLocation() {\n",
      "        var img_html = \"<img id='image' src='https://admissions.wisc.edu/wp-content/uploads/sites/462/2020/04/aerial_UW_16mm11_6543-800x533.jpg'/>\\n<p id='location'> BASCOM HALL <\\p>\";\n",
      "\n",
      "         \n",
      "            \n",
      "        var t = document.createElement(\"div\");\n",
      "        t.innerHTML = img_html;\n",
      "        document.body.appendChild(t);\n",
      "            \n",
      "        \n",
      "         document.getElementById('location-button').style.visibility='hidden';\n",
      "      }\n",
      "      \n",
      "}\n",
      "</script>\n",
      "\n",
      "\n",
      "\n",
      "</body></html>\n"
     ]
    }
   ],
   "source": [
    "url = \"http://34.125.23.123:5000/hidden_location.html\"\n",
    "# url = \"http://34.125.23.123:5000\"\n",
    "b.get(url)\n",
    "print(b.page_source)\n",
    "# 1713852459415326"
   ]
  },
  {
   "cell_type": "code",
   "execution_count": 122,
   "id": "f2f80a67-d5fd-487f-ac64-23f48661aedb",
   "metadata": {},
   "outputs": [
    {
     "data": {
      "text/plain": [
       "'BASCOM HALL'"
      ]
     },
     "execution_count": 122,
     "metadata": {},
     "output_type": "execute_result"
    }
   ],
   "source": [
    "\n",
    "\n",
    "# TODO: use IP address of your VM\n",
    "start_url = \"http://34.125.23.123:5000\"\n",
    "\n",
    "s = scrape.WebSearcher(driver)\n",
    "# print(s.visit_and_get_children(start_url))\n",
    "\n",
    "\n",
    "scrape.reveal_secrets(driver, start_url, table)\n"
   ]
  }
 ],
 "metadata": {
  "kernelspec": {
   "display_name": "Python 3 (ipykernel)",
   "language": "python",
   "name": "python3"
  },
  "language_info": {
   "codemirror_mode": {
    "name": "ipython",
    "version": 3
   },
   "file_extension": ".py",
   "mimetype": "text/x-python",
   "name": "python",
   "nbconvert_exporter": "python",
   "pygments_lexer": "ipython3",
   "version": "3.10.12"
  }
 },
 "nbformat": 4,
 "nbformat_minor": 5
}
